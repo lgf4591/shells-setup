{
 "cells": [
  {
   "cell_type": "code",
   "execution_count": 2,
   "metadata": {},
   "outputs": [],
   "source": [
    "import os\n",
    "import sys\n",
    "import platform\n",
    "import re\n",
    "import json\n",
    "import subprocess"
   ]
  },
  {
   "cell_type": "code",
   "execution_count": 4,
   "metadata": {},
   "outputs": [],
   "source": [
    "def is_empty(variable):\n",
    "    if variable is None:\n",
    "        return True\n",
    "    if isinstance(variable, str) and variable == \"\":\n",
    "        return True\n",
    "    if isinstance(variable, (list, tuple, dict, set)) and len(variable) == 0:\n",
    "        return True\n",
    "    return False"
   ]
  },
  {
   "cell_type": "code",
   "execution_count": 5,
   "metadata": {},
   "outputs": [
    {
     "name": "stdout",
     "output_type": "stream",
     "text": [
      "0\n"
     ]
    }
   ],
   "source": [
    "# subprocess.call()：执行命令，并返回执行状态，其中shell参数为False时，命令以及命令的参数需要通过列表的方式传入，当shell为True时，可通过一个字符串直接传入命令以及命令所需要的参数\n",
    "# print(subprocess.call([\"touch\",\"c.txt\"],shell=False))  # 直接返回0，表示操作成功\n",
    "# print(subprocess.call(\"mkdir newdir1\",shell=True))   # 直接返回0，表示操作成功\n",
    "print(subprocess.call([\"powershell\",\"-noprofile\",\"-c\",\"ls\"],shell=False))  # shell参数为false，则，命令以及参数以列表的形式给出\n"
   ]
  },
  {
   "cell_type": "code",
   "execution_count": 7,
   "metadata": {},
   "outputs": [
    {
     "name": "stdout",
     "output_type": "stream",
     "text": [
      "1\n"
     ]
    }
   ],
   "source": [
    "print(subprocess.call([\"powershell -noprofile -c ls\"],shell=True))"
   ]
  },
  {
   "cell_type": "code",
   "execution_count": 11,
   "metadata": {},
   "outputs": [
    {
     "name": "stdout",
     "output_type": "stream",
     "text": [
      "b'\\r\\n\\r\\n    \\xc4\\xbf\\xc2\\xbc: E:\\\\code\\\\project\\\\config\\\\shells-setup\\\\test\\r\\n\\r\\n\\r\\nMode                 LastWriteTime         Length Name                                                                 \\r\\n----                 -------------         ------ ----                                                                 \\r\\n-a----        10/27/2023   9:28 PM          13608 test.ipynb                                                           \\r\\n-a----        10/25/2023   9:26 PM           1510 test.ps1                                                             \\r\\n-a----        10/27/2023   9:01 PM              0 test.py                                                              \\r\\n\\r\\n\\r\\n'\n"
     ]
    }
   ],
   "source": [
    "a=subprocess.check_output([\"powershell\",\"-noprofile\",\"-c\",\"ls\"],shell=False)\n",
    "print(a)  # 不是直接返回0了，而是直接返回执行结果的内容\n"
   ]
  },
  {
   "cell_type": "code",
   "execution_count": 12,
   "metadata": {},
   "outputs": [
    {
     "name": "stdout",
     "output_type": "stream",
     "text": [
      "b'\\r\\n\\r\\n    \\xc4\\xbf\\xc2\\xbc: E:\\\\code\\\\project\\\\config\\\\shells-setup\\\\test\\r\\n\\r\\n\\r\\nMode                 LastWriteTime         Length Name                                                                 \\r\\n----                 -------------         ------ ----                                                                 \\r\\n-a----        10/27/2023   9:28 PM          13608 test.ipynb                                                           \\r\\n-a----        10/25/2023   9:26 PM           1510 test.ps1                                                             \\r\\n-a----        10/27/2023   9:01 PM              0 test.py                                                              \\r\\n\\r\\n\\r\\n'\n"
     ]
    }
   ],
   "source": [
    "b=subprocess.check_output(\"powershell -noprofile -c ls\",shell=True)\n",
    "print(b)  # 不是直接返回0了，而是直接返回执行结果的内容"
   ]
  },
  {
   "cell_type": "code",
   "execution_count": 4,
   "metadata": {},
   "outputs": [
    {
     "name": "stdout",
     "output_type": "stream",
     "text": [
      " 驱动器 E 中的卷是 Documents\n",
      " 卷的序列号是 A9CC-C676\n",
      "\n",
      " e:\\code\\project\\config\\shells-setup\\test 的目录\n",
      "\n",
      "10/27/2023  09:01 PM    <DIR>          .\n",
      "10/27/2023  09:00 PM    <DIR>          ..\n",
      "10/27/2023  09:21 PM             7,501 test.ipynb\n",
      "10/25/2023  09:26 PM             1,510 test.ps1\n",
      "10/27/2023  09:01 PM                 0 test.py\n",
      "               3 个文件          9,011 字节\n",
      "               2 个目录 194,886,070,272 可用字节\n",
      "\n"
     ]
    }
   ],
   "source": [
    "\n",
    "f=os.popen(\"dir\")  # 返回的是一个文件对象\n",
    "print(f.read())    "
   ]
  },
  {
   "cell_type": "code",
   "execution_count": 2,
   "metadata": {},
   "outputs": [],
   "source": [
    "import subprocess\n",
    "def run_shell_command(command: str = \"\", shell: str = \"powershell\") -> int:\n",
    "    if shell == \"powershell\":\n",
    "        command = \"powershell.exe -noprofile -c \" + command\n",
    "    elif shell == \"pwsh\":\n",
    "        command = \"pwsh.exe -noprofile -c \" + command\n",
    "    command_array = command.split(\" \")\n",
    "    # https://blog.51cto.com/u_16175493/7917058\n",
    "    # result = subprocess.run(command_array, capture_output=True, text=True)\n",
    "    result = subprocess.run(command_array, capture_output=True, shell=True, text=True)\n",
    "    if result.returncode == 0:\n",
    "        print('命令执行成功！')\n",
    "        print('命令的输出结果为：')\n",
    "        print(result.stdout)\n",
    "    else:\n",
    "        print('命令执行失败！')\n",
    "        print('命令的错误输出为：')\n",
    "        print(result.stderr)\n",
    "    return result.returncode"
   ]
  },
  {
   "cell_type": "code",
   "execution_count": 3,
   "metadata": {},
   "outputs": [
    {
     "name": "stdout",
     "output_type": "stream",
     "text": [
      "命令执行成功！\n",
      "命令的输出结果为：\n",
      "\n",
      "\n",
      "    目录: E:\\code\\project\\config\\shells-setup\\test\n",
      "\n",
      "\n",
      "Mode                 LastWriteTime         Length Name                                                                 \n",
      "----                 -------------         ------ ----                                                                 \n",
      "-a----        10/27/2023   9:02 PM           5491 test.ipynb                                                           \n",
      "-a----        10/25/2023   9:26 PM           1510 test.ps1                                                             \n",
      "-a----        10/27/2023   9:01 PM              0 test.py                                                              \n",
      "\n",
      "\n",
      "\n"
     ]
    },
    {
     "data": {
      "text/plain": [
       "0"
      ]
     },
     "execution_count": 3,
     "metadata": {},
     "output_type": "execute_result"
    }
   ],
   "source": [
    "\n",
    "run_shell_command(\"ls\")\n",
    "# run_shell_command(\"mkdir a,b\")\n",
    "# run_shell_command(\"gcm choco\", \"pwsh\")\n",
    "# run_shell_command(\"dir\", \"cmd\")"
   ]
  },
  {
   "cell_type": "code",
   "execution_count": 1,
   "metadata": {},
   "outputs": [],
   "source": [
    "import subprocess\n",
    "def run_shell_script(path: str = \"\", shell: str = \"powershell\") -> object:\n",
    "    try:\n",
    "        args=[\"powershell.exe\", \"-noprofile\", \"-c\", path]\n",
    "        p=subprocess.Popen(args, stdout=subprocess.PIPE)\n",
    "        dt=p.stdout.read().decode()\n",
    "        return dt\n",
    "    except Exception as e:\n",
    "        print(e)\n",
    "    return False"
   ]
  },
  {
   "cell_type": "code",
   "execution_count": 2,
   "metadata": {},
   "outputs": [],
   "source": [
    "print(run_shell_script(r\"./test.ps1\"))"
   ]
  },
  {
   "cell_type": "code",
   "execution_count": null,
   "metadata": {},
   "outputs": [],
   "source": [
    "import subprocess\n",
    "\n",
    "def python_call_powershell():\n",
    "    try:\n",
    "        args=[\"powershell.exe\",\"-noprofile\",\"-c\",r\"./test.ps1\"]  #args参数里的ip是对应调用powershell里的动态参数args[0],类似python中的sys.argv[1]\n",
    "        p=subprocess.Popen(args, stdout=subprocess.PIPE)\n",
    "        dt=p.stdout.read().decode()\n",
    "        return dt\n",
    "    except Exception as e:\n",
    "        print(e)\n",
    "    return False\n",
    "if __name__==\"__main__\":\n",
    "    print(type(python_call_powershell()))\n",
    "    print(python_call_powershell())"
   ]
  },
  {
   "cell_type": "code",
   "execution_count": 1,
   "metadata": {},
   "outputs": [],
   "source": [
    "def run_shell_script_with_admin(path: str = \"\", shell: str = \"powershell\") -> int:\n",
    "    p = subprocess.Popen(\n",
    "            [\n",
    "                'powershell.exe', \n",
    "                \"-noprofile\", \"-c\",\n",
    "                r\"\"\"\n",
    "                exit (\n",
    "                Start-Process -Verb RunAs -PassThru -Wait powershell.exe -Args \"\n",
    "                    -noprofile -c Set-Location \\`\"$PWD\\`\"; & .\\test.ps1; exit `$LASTEXITCODE\n",
    "                \"\n",
    "                ).ExitCode\n",
    "                \"\"\"\n",
    "            ],\n",
    "            stdout=subprocess.PIPE,\n",
    "            stderr=subprocess.PIPE\n",
    "        )\n",
    "    p.communicate()\n",
    "    print('Terminated with exit code ' + str(p.returncode))\n",
    "    return p.returncode"
   ]
  },
  {
   "cell_type": "code",
   "execution_count": null,
   "metadata": {},
   "outputs": [],
   "source": []
  },
  {
   "cell_type": "code",
   "execution_count": null,
   "metadata": {},
   "outputs": [],
   "source": [
    "pscommand = 'Invoke-Command ...'\n",
    "process = subprocess.Popen(['powershell.exe', '-NoProfile', '-Command', '\"&{' + pscommand + '}\"'], stdout=subprocess.PIPE, stderr=subprocess.PIPE)"
   ]
  },
  {
   "cell_type": "code",
   "execution_count": 14,
   "metadata": {},
   "outputs": [
    {
     "name": "stdout",
     "output_type": "stream",
     "text": [
      "error: \n",
      " None\n",
      "output: \n",
      " Set-PSReadLineOption : 句柄无效。\n",
      "所在位置 C:\\Users\\lgf\\Documents\\WindowsPowerShell\\Microsoft.PowerShell_profile.ps1:22 字符: 1\n",
      "+ Set-PSReadLineOption -PredictionViewstyle Listview\n",
      "+ ~~~~~~~~~~~~~~~~~~~~~~~~~~~~~~~~~~~~~~~~~~~~~~~~~~\n",
      "    + CategoryInfo          : NotSpecified: (:) [Set-PSReadLineOption], IOException\n",
      "    + FullyQualifiedErrorId : System.IO.IOException,Microsoft.PowerShell.SetPSReadLineOption\n",
      " \n",
      "Set-PSReadLineOption : The predictive suggestion feature cannot be enabled because the console output doesn't support \n",
      "virtual terminal processing or it's redirected.\n",
      "所在位置 C:\\Users\\lgf\\Documents\\WindowsPowerShell\\Microsoft.PowerShell_profile.ps1:24 字符: 1\n",
      "+ Set-PSReadLineOption -PredictionSource History\n",
      "+ ~~~~~~~~~~~~~~~~~~~~~~~~~~~~~~~~~~~~~~~~~~~~~~\n",
      "    + CategoryInfo          : NotSpecified: (:) [Set-PSReadLineOption], ArgumentException\n",
      "    + FullyQualifiedErrorId : System.ArgumentException,Microsoft.PowerShell.SetPSReadLineOption\n",
      " \n",
      "\n",
      "正在 Ping baidu.com [39.156.66.10] 具有 32 字节的数据:\n",
      "来自 39.156.66.10 的回复: 字节=32 时间=60ms TTL=49\n",
      "来自 39.156.66.10 的回复: 字节=32 时间=60ms TTL=49\n",
      "来自 39.156.66.10 的回复: 字节=32 时间=60ms TTL=49\n",
      "来自 39.156.66.10 的回复: 字节=32 时间=60ms TTL=49\n",
      "\n",
      "39.156.66.10 的 Ping 统计信息:\n",
      "    数据包: 已发送 = 4，已接收 = 4，丢失 = 0 (0% 丢失)，\n",
      "往返行程的估计时间(以毫秒为单位):\n",
      "    最短 = 60ms，最长 = 60ms，平均 = 60ms\n",
      "\n"
     ]
    }
   ],
   "source": [
    "import os\n",
    "from glob import glob\n",
    "import subprocess as sp\n",
    "\n",
    "\n",
    "class PowerShell:\n",
    "    # from scapy\n",
    "    def __init__(self, coding, ):\n",
    "        cmd = [self._where('PowerShell.exe'),\n",
    "               \"-NoLogo\", \"-NonInteractive\",  # Do not print headers\n",
    "               \"-Command\", \"-\"]  # Listen commands from stdin\n",
    "        startupinfo = sp.STARTUPINFO()\n",
    "        startupinfo.dwFlags |= sp.STARTF_USESHOWWINDOW\n",
    "        self.popen = sp.Popen(cmd, stdout=sp.PIPE, stdin=sp.PIPE, stderr=sp.STDOUT, startupinfo=startupinfo)\n",
    "        self.coding = coding\n",
    "\n",
    "    def __enter__(self):\n",
    "        return self\n",
    "\n",
    "    def __exit__(self, a, b, c):\n",
    "        self.popen.kill()\n",
    "\n",
    "    def run(self, cmd, timeout=15):\n",
    "        b_cmd = cmd.encode(encoding=self.coding)\n",
    "        try:\n",
    "            b_outs, errs = self.popen.communicate(b_cmd, timeout=timeout)\n",
    "        except sp.TimeoutExpired:\n",
    "            self.popen.kill()\n",
    "            b_outs, errs = self.popen.communicate()\n",
    "        outs = b_outs.decode(encoding=self.coding)\n",
    "        return outs, errs\n",
    "\n",
    "    @staticmethod\n",
    "    def _where(filename, dirs=None, env=\"PATH\"):\n",
    "        \"\"\"Find file in current dir, in deep_lookup cache or in system path\"\"\"\n",
    "        if dirs is None:\n",
    "            dirs = []\n",
    "        if not isinstance(dirs, list):\n",
    "            dirs = [dirs]\n",
    "        if glob(filename):\n",
    "            return filename\n",
    "        paths = [os.curdir] + os.environ[env].split(os.path.pathsep) + dirs\n",
    "        try:\n",
    "            return next(os.path.normpath(match)\n",
    "                        for path in paths\n",
    "                        for match in glob(os.path.join(path, filename))\n",
    "                        if match)\n",
    "        except (StopIteration, RuntimeError):\n",
    "            raise IOError(\"File not found: %s\" % filename)\n",
    "\n",
    "\n",
    "if __name__ == '__main__':\n",
    "    # Example:\n",
    "    with PowerShell('GBK') as ps:\n",
    "        outs, errs = ps.run('ping baidu.com')\n",
    "    print('error:', os.linesep, errs)\n",
    "    print('output:', os.linesep, outs)"
   ]
  },
  {
   "cell_type": "code",
   "execution_count": null,
   "metadata": {},
   "outputs": [],
   "source": [
    "import ctypes, sys\n",
    "class CMD(object):\n",
    "    \"\"\"\n",
    "    运行windows shell 命令\n",
    "    \"\"\"\n",
    "    __instance__ = None\n",
    "\n",
    "    def __new__(cls, *args, **kwargs):\n",
    "        \"\"\"\n",
    "        实现单例模式\n",
    "        \"\"\"\n",
    "        if cls.__instance__ is None:\n",
    "            cls.__instance__ = super().__new__(cls, *args, **kwargs)\n",
    "        return cls.__instance__\n",
    "\n",
    "    @staticmethod\n",
    "    def is_admin():\n",
    "        \"\"\"\n",
    "        判断是否admin\n",
    "        \"\"\"\n",
    "        try:\n",
    "            return ctypes.windll.shell32.IsUserAnAdmin()\n",
    "        except Exception as e:\n",
    "            logger.error(\"Error: \", e)\n",
    "            return False\n",
    "\n",
    "    def run_cmd(self, cmd):\n",
    "        \"\"\"\n",
    "        windows下运行shell命令\n",
    "        \"\"\"\n",
    "        cmd_list = [cmd] if isinstance(cmd, str) else cmd\n",
    "\n",
    "        if self.is_admin:\n",
    "            # 此处运行需要运行的命令\n",
    "            for c in cmd_list:\n",
    "                result_status, result_str = subprocess.getstatusoutput(c)\n",
    "                logger.info(f\"CMD>>>>> {c}, status: {result_status}, {result_str}\")\n",
    "                return result_status, result_str\n",
    "        else:\n",
    "            ctypes.windll.shell32.ShellExecuteW(None, \"runas\", sys.executable, __file__, None, 1)"
   ]
  },
  {
   "cell_type": "code",
   "execution_count": 1,
   "metadata": {},
   "outputs": [
    {
     "name": "stdout",
     "output_type": "stream",
     "text": [
      "expected str, bytes or os.PathLike object, not list\n",
      "False\n"
     ]
    }
   ],
   "source": [
    "# -*- coding: utf-8 -*-\n",
    "import subprocess\n",
    "\n",
    "def python_call_powershell(ip):\n",
    "    try:\n",
    "        args=[r\"powershell\",r\".\\test.ps1\",ip]  #args参数里的ip是对应调用powershell里的动态参数args[0],类似python中的sys.argv[1]\n",
    "        p=subprocess.Popen(args, stdout=subprocess.PIPE)\n",
    "        dt=p.stdout.read()\n",
    "        return dt\n",
    "    except Exception as e:\n",
    "        print(e)\n",
    "    return False\n",
    "\n",
    "if __name__==\"__main__\":\n",
    "    ip=[\"1.1.1.1\",\"2.2.2.2\",\"3.3.3.3\"]\n",
    "    print(python_call_powershell(ip))"
   ]
  },
  {
   "cell_type": "code",
   "execution_count": 2,
   "metadata": {},
   "outputs": [
    {
     "name": "stdout",
     "output_type": "stream",
     "text": [
      "expected str, bytes or os.PathLike object, not list\n",
      "False\n"
     ]
    }
   ],
   "source": [
    "def python_call_powershell(ip):\n",
    "    try:\n",
    "        args=[r\"powershell.exe\",\"-ExecutionPolicy\",\"Unrestricted\", r\".\\test.ps1\",ip]\n",
    "        p=subprocess.Popen(args, stdout=subprocess.PIPE)\n",
    "        dt=p.stdout.read()\n",
    "        return dt\n",
    "    except Exception as e:\n",
    "        print(e)\n",
    "    return False\n",
    "\n",
    "if __name__==\"__main__\":\n",
    "    ip=[\"1.1.1.1\",\"2.2.2.2\",\"3.3.3.3\"]\n",
    "    print(python_call_powershell(ip))\n",
    "    \n",
    "    "
   ]
  },
  {
   "cell_type": "code",
   "execution_count": null,
   "metadata": {},
   "outputs": [],
   "source": [
    "# -*- coding: utf-8 -*-\n",
    "import wmi,json\n",
    "import time\n",
    "\n",
    "logfile = 'logs_%s.txt' % time.strftime('%Y-%m-%d_%H-%M-%S', time.localtime())\n",
    "\n",
    "#远程执行bat文件\n",
    "def call_remote_bat(ipaddress,username,password):\n",
    "    try:\n",
    "        #用wmi连接到远程服务器\n",
    "        conn = wmi.WMI(computer=ipaddress, user=username, password=password)\n",
    "        filename=r\"D:\\apps\\autorun.bat\"   #此文件在远程服务器上\n",
    "        cmd_callbat=r\"cmd /c call %s\"%filename\n",
    "        conn.Win32_Process.Create(CommandLine=cmd_callbat)  #执行bat文件\n",
    "        print(\"执行成功!\")\n",
    "        return True\n",
    "    except Exception,e:\n",
    "        log = open(logfile, 'a')\n",
    "        log.write(('%s, call bat Failed!\\r\\n') % ipaddress)\n",
    "        log.close()\n",
    "        return False\n",
    "    return False\n",
    "\n",
    "if __name__=='__main__':\n",
    "    call_remote_bat(computer=\"192.168.1.2\", user=\"testuser\", password=\"testpwd\")"
   ]
  },
  {
   "cell_type": "code",
   "execution_count": 24,
   "metadata": {},
   "outputs": [
    {
     "name": "stdout",
     "output_type": "stream",
     "text": [
      "<class 'str'>\n",
      "hello, lgf\n",
      "\n"
     ]
    }
   ],
   "source": [
    "# -*- coding: utf-8 -*-\n",
    "import subprocess\n",
    "\n",
    "def python_call_powershell():\n",
    "    try:\n",
    "        args=[\"powershell.exe\",\"-noprofile\",\"-c\",r\"./test.ps1\"]  #args参数里的ip是对应调用powershell里的动态参数args[0],类似python中的sys.argv[1]\n",
    "        p=subprocess.Popen(args, stdout=subprocess.PIPE)\n",
    "        dt=p.stdout.read().decode()\n",
    "        return dt\n",
    "    except Exception as e:\n",
    "        print(e)\n",
    "    return False\n",
    "if __name__==\"__main__\":\n",
    "    print(type(python_call_powershell()))\n",
    "    print(python_call_powershell())\n",
    "\n",
    "# 如果报错，说禁止执行脚本，是因为没有权限，所以，把上面的一行代码换成\n",
    "#  args=[r\"C:\\WINDOWS\\system32\\WindowsPowerShell\\v1.0\\powershell.exe\",\"-ExecutionPolicy\",\"Unrestricted\", r\"D:\\jzhou\\test_ping.ps1\",ip]"
   ]
  },
  {
   "cell_type": "code",
   "execution_count": 27,
   "metadata": {},
   "outputs": [
    {
     "name": "stdout",
     "output_type": "stream",
     "text": [
      "<class 'str'>\n",
      "\n"
     ]
    }
   ],
   "source": [
    "# -*- coding: utf-8 -*-\n",
    "import subprocess\n",
    "\n",
    "def python_call_powershell():\n",
    "    try:\n",
    "        args=[\"powershell.exe\",\"-noprofile\",\"-c\",\n",
    "              r\"\"\"\n",
    "                exit (\n",
    "                Start-Process -Verb RunAs -PassThru -Wait powershell.exe -Args \"\n",
    "                    -noprofile -c Set-Location \\`\"$PWD\\`\"; & .\\test.ps1; exit `$LASTEXITCODE\n",
    "                \"\n",
    "                ).ExitCode\n",
    "                \"\"\"\n",
    "              ]\n",
    "        p=subprocess.Popen(args, stdout=subprocess.PIPE)\n",
    "        dt=p.stdout.read().decode()\n",
    "        return dt\n",
    "    except Exception as e:\n",
    "        print(e)\n",
    "    return False\n",
    "if __name__==\"__main__\":\n",
    "    print(type(python_call_powershell()))\n",
    "    print(python_call_powershell())"
   ]
  },
  {
   "cell_type": "code",
   "execution_count": 32,
   "metadata": {},
   "outputs": [
    {
     "name": "stdout",
     "output_type": "stream",
     "text": [
      "Terminated with exit code 3221225786\n"
     ]
    }
   ],
   "source": [
    "p = subprocess.Popen(\n",
    "  [\n",
    "    \"powershell.exe\", \n",
    "    \"-noprofile\", \"-c\",\n",
    "    r\"\"\"\n",
    "    exit (\n",
    "      Start-Process -Verb RunAs -PassThru -Wait powershell.exe -Args \"\n",
    "        -noprofile -c Set-Location \\`\"$PWD\\`\"; & .\\test.ps1; exit `$LASTEXITCODE\n",
    "      \"\n",
    "    ).ExitCode\n",
    "    \"\"\"\n",
    "  ],\n",
    "  stdout=subprocess.PIPE\n",
    ")\n",
    "p.communicate()\n",
    "\n",
    "print('Terminated with exit code ' + str(p.returncode))"
   ]
  },
  {
   "cell_type": "code",
   "execution_count": 33,
   "metadata": {},
   "outputs": [],
   "source": [
    "import subprocess, sys\n",
    "p = subprocess.Popen([\"powershell.exe\", r\".\\test.ps1\"], stdout=subprocess.PIPE)\n",
    "p.communicate()"
   ]
  },
  {
   "cell_type": "code",
   "execution_count": 18,
   "metadata": {},
   "outputs": [
    {
     "ename": "UnsupportedOperation",
     "evalue": "fileno",
     "output_type": "error",
     "traceback": [
      "\u001b[1;31m---------------------------------------------------------------------------\u001b[0m",
      "\u001b[1;31mUnsupportedOperation\u001b[0m                      Traceback (most recent call last)",
      "\u001b[1;32me:\\code\\project\\config\\shells-setup\\test\\test.ipynb Cell 15\u001b[0m line \u001b[0;36m2\n\u001b[0;32m      <a href='vscode-notebook-cell:/e%3A/code/project/config/shells-setup/test/test.ipynb#X12sZmlsZQ%3D%3D?line=0'>1</a>\u001b[0m \u001b[39mimport\u001b[39;00m \u001b[39msubprocess\u001b[39;00m\u001b[39m,\u001b[39m \u001b[39msys\u001b[39;00m\n\u001b[1;32m----> <a href='vscode-notebook-cell:/e%3A/code/project/config/shells-setup/test/test.ipynb#X12sZmlsZQ%3D%3D?line=1'>2</a>\u001b[0m p \u001b[39m=\u001b[39m subprocess\u001b[39m.\u001b[39;49mPopen(\u001b[39m'\u001b[39;49m\u001b[39mpowershell.exe -ExecutionPolicy RemoteSigned -file \u001b[39;49m\u001b[39m\"\u001b[39;49m\u001b[39mE:\u001b[39;49m\u001b[39m\\\u001b[39;49m\u001b[39mcode\u001b[39;49m\u001b[39m\\\u001b[39;49m\u001b[39mproject\u001b[39;49m\u001b[39m\\\u001b[39;49m\u001b[39mconfig\u001b[39;49m\u001b[39m\\\u001b[39;49m\u001b[39mshells-setup\u001b[39;49m\u001b[39m\\t\u001b[39;49;00m\u001b[39mest\u001b[39;49m\u001b[39m\\t\u001b[39;49;00m\u001b[39mest.ps1\u001b[39;49m\u001b[39m\"\u001b[39;49m\u001b[39m'\u001b[39;49m, stdout\u001b[39m=\u001b[39;49msys\u001b[39m.\u001b[39;49mstdout)\n\u001b[0;32m      <a href='vscode-notebook-cell:/e%3A/code/project/config/shells-setup/test/test.ipynb#X12sZmlsZQ%3D%3D?line=2'>3</a>\u001b[0m p\u001b[39m.\u001b[39mcommunicate()\n",
      "File \u001b[1;32mc:\\Users\\lgf\\AppData\\Local\\Programs\\Python\\Python311\\Lib\\subprocess.py:992\u001b[0m, in \u001b[0;36mPopen.__init__\u001b[1;34m(self, args, bufsize, executable, stdin, stdout, stderr, preexec_fn, close_fds, shell, cwd, env, universal_newlines, startupinfo, creationflags, restore_signals, start_new_session, pass_fds, user, group, extra_groups, encoding, errors, text, umask, pipesize, process_group)\u001b[0m\n\u001b[0;32m    973\u001b[0m         \u001b[39mraise\u001b[39;00m \u001b[39mValueError\u001b[39;00m(\u001b[39mf\u001b[39m\u001b[39m\"\u001b[39m\u001b[39mUser ID cannot be negative, got \u001b[39m\u001b[39m{\u001b[39;00muid\u001b[39m}\u001b[39;00m\u001b[39m\"\u001b[39m)\n\u001b[0;32m    975\u001b[0m \u001b[39m# Input and output objects. The general principle is like\u001b[39;00m\n\u001b[0;32m    976\u001b[0m \u001b[39m# this:\u001b[39;00m\n\u001b[0;32m    977\u001b[0m \u001b[39m#\u001b[39;00m\n\u001b[1;32m   (...)\u001b[0m\n\u001b[0;32m    987\u001b[0m \u001b[39m# are -1 when not using PIPEs. The child objects are -1\u001b[39;00m\n\u001b[0;32m    988\u001b[0m \u001b[39m# when not redirecting.\u001b[39;00m\n\u001b[0;32m    990\u001b[0m (p2cread, p2cwrite,\n\u001b[0;32m    991\u001b[0m  c2pread, c2pwrite,\n\u001b[1;32m--> 992\u001b[0m  errread, errwrite) \u001b[39m=\u001b[39m \u001b[39mself\u001b[39;49m\u001b[39m.\u001b[39;49m_get_handles(stdin, stdout, stderr)\n\u001b[0;32m    994\u001b[0m \u001b[39m# From here on, raising exceptions may cause file descriptor leakage\u001b[39;00m\n\u001b[0;32m    995\u001b[0m \n\u001b[0;32m    996\u001b[0m \u001b[39m# We wrap OS handles *before* launching the child, otherwise a\u001b[39;00m\n\u001b[0;32m    997\u001b[0m \u001b[39m# quickly terminating child could make our fds unwrappable\u001b[39;00m\n\u001b[0;32m    998\u001b[0m \u001b[39m# (see #8458).\u001b[39;00m\n\u001b[0;32m   1000\u001b[0m \u001b[39mif\u001b[39;00m _mswindows:\n",
      "File \u001b[1;32mc:\\Users\\lgf\\AppData\\Local\\Programs\\Python\\Python311\\Lib\\subprocess.py:1384\u001b[0m, in \u001b[0;36mPopen._get_handles\u001b[1;34m(self, stdin, stdout, stderr)\u001b[0m\n\u001b[0;32m   1381\u001b[0m     c2pwrite \u001b[39m=\u001b[39m msvcrt\u001b[39m.\u001b[39mget_osfhandle(stdout)\n\u001b[0;32m   1382\u001b[0m \u001b[39melse\u001b[39;00m:\n\u001b[0;32m   1383\u001b[0m     \u001b[39m# Assuming file-like object\u001b[39;00m\n\u001b[1;32m-> 1384\u001b[0m     c2pwrite \u001b[39m=\u001b[39m msvcrt\u001b[39m.\u001b[39mget_osfhandle(stdout\u001b[39m.\u001b[39;49mfileno())\n\u001b[0;32m   1385\u001b[0m c2pwrite \u001b[39m=\u001b[39m \u001b[39mself\u001b[39m\u001b[39m.\u001b[39m_make_inheritable(c2pwrite)\n\u001b[0;32m   1387\u001b[0m \u001b[39mif\u001b[39;00m stderr \u001b[39mis\u001b[39;00m \u001b[39mNone\u001b[39;00m:\n",
      "File \u001b[1;32mc:\\Users\\lgf\\AppData\\Local\\Programs\\Python\\Python311\\Lib\\site-packages\\ipykernel\\iostream.py:372\u001b[0m, in \u001b[0;36mOutStream.fileno\u001b[1;34m(self)\u001b[0m\n\u001b[0;32m    370\u001b[0m \u001b[39melse\u001b[39;00m:\n\u001b[0;32m    371\u001b[0m     msg \u001b[39m=\u001b[39m \u001b[39m\"\u001b[39m\u001b[39mfileno\u001b[39m\u001b[39m\"\u001b[39m\n\u001b[1;32m--> 372\u001b[0m     \u001b[39mraise\u001b[39;00m io\u001b[39m.\u001b[39mUnsupportedOperation(msg)\n",
      "\u001b[1;31mUnsupportedOperation\u001b[0m: fileno"
     ]
    }
   ],
   "source": [
    "import subprocess, sys\n",
    "p = subprocess.Popen('powershell.exe -ExecutionPolicy RemoteSigned -file \"E:\\code\\project\\config\\shells-setup\\test\\test.ps1\"', stdout=sys.stdout)\n",
    "p.communicate()"
   ]
  },
  {
   "cell_type": "code",
   "execution_count": null,
   "metadata": {},
   "outputs": [],
   "source": []
  },
  {
   "cell_type": "code",
   "execution_count": null,
   "metadata": {},
   "outputs": [],
   "source": []
  },
  {
   "cell_type": "code",
   "execution_count": null,
   "metadata": {},
   "outputs": [],
   "source": []
  },
  {
   "cell_type": "code",
   "execution_count": null,
   "metadata": {},
   "outputs": [],
   "source": []
  },
  {
   "cell_type": "code",
   "execution_count": null,
   "metadata": {},
   "outputs": [],
   "source": []
  },
  {
   "cell_type": "code",
   "execution_count": null,
   "metadata": {},
   "outputs": [],
   "source": []
  },
  {
   "cell_type": "code",
   "execution_count": null,
   "metadata": {},
   "outputs": [],
   "source": []
  },
  {
   "cell_type": "code",
   "execution_count": null,
   "metadata": {},
   "outputs": [],
   "source": []
  },
  {
   "cell_type": "code",
   "execution_count": null,
   "metadata": {},
   "outputs": [],
   "source": []
  },
  {
   "cell_type": "code",
   "execution_count": null,
   "metadata": {},
   "outputs": [],
   "source": []
  },
  {
   "cell_type": "code",
   "execution_count": null,
   "metadata": {},
   "outputs": [],
   "source": []
  },
  {
   "cell_type": "code",
   "execution_count": null,
   "metadata": {},
   "outputs": [],
   "source": []
  },
  {
   "cell_type": "code",
   "execution_count": null,
   "metadata": {},
   "outputs": [],
   "source": []
  },
  {
   "cell_type": "code",
   "execution_count": null,
   "metadata": {},
   "outputs": [],
   "source": []
  },
  {
   "cell_type": "code",
   "execution_count": null,
   "metadata": {},
   "outputs": [],
   "source": []
  },
  {
   "cell_type": "code",
   "execution_count": null,
   "metadata": {},
   "outputs": [],
   "source": []
  },
  {
   "cell_type": "code",
   "execution_count": null,
   "metadata": {},
   "outputs": [],
   "source": []
  },
  {
   "cell_type": "code",
   "execution_count": null,
   "metadata": {},
   "outputs": [],
   "source": []
  },
  {
   "cell_type": "code",
   "execution_count": null,
   "metadata": {},
   "outputs": [],
   "source": []
  },
  {
   "cell_type": "code",
   "execution_count": null,
   "metadata": {},
   "outputs": [],
   "source": []
  },
  {
   "cell_type": "code",
   "execution_count": null,
   "metadata": {},
   "outputs": [],
   "source": []
  },
  {
   "cell_type": "code",
   "execution_count": null,
   "metadata": {},
   "outputs": [],
   "source": []
  },
  {
   "cell_type": "code",
   "execution_count": null,
   "metadata": {},
   "outputs": [],
   "source": []
  },
  {
   "cell_type": "code",
   "execution_count": null,
   "metadata": {},
   "outputs": [],
   "source": []
  }
 ],
 "metadata": {
  "kernelspec": {
   "display_name": "Python 3",
   "language": "python",
   "name": "python3"
  },
  "language_info": {
   "codemirror_mode": {
    "name": "ipython",
    "version": 3
   },
   "file_extension": ".py",
   "mimetype": "text/x-python",
   "name": "python",
   "nbconvert_exporter": "python",
   "pygments_lexer": "ipython3",
   "version": "3.11.6"
  }
 },
 "nbformat": 4,
 "nbformat_minor": 2
}
